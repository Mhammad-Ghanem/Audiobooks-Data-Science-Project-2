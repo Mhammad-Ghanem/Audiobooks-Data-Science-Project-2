{
 "cells": [
  {
   "cell_type": "markdown",
   "id": "c92b677e-ffc0-45a0-8827-dbe4fe02b08a",
   "metadata": {},
   "source": [
    "# Preprocessing the dataset"
   ]
  },
  {
   "cell_type": "markdown",
   "id": "81eb22bc-3f3a-445f-bae9-768d539a1193",
   "metadata": {},
   "source": [
    "### import the relevant libraries"
   ]
  },
  {
   "cell_type": "code",
   "execution_count": 74,
   "id": "ea2fe1b4-f7f6-400f-8e23-db4c6a92551e",
   "metadata": {},
   "outputs": [],
   "source": [
    "import numpy as np\n",
    "from sklearn import preprocessing"
   ]
  },
  {
   "cell_type": "markdown",
   "id": "6eb85bbd-2270-41de-95bf-458bbaa4ca9f",
   "metadata": {},
   "source": [
    "### Extract the data from the csv"
   ]
  },
  {
   "cell_type": "code",
   "execution_count": 75,
   "id": "ea1703f9-400a-401d-a417-73e9ccff732b",
   "metadata": {},
   "outputs": [
    {
     "data": {
      "text/plain": [
       "array([[9.9400e+02, 1.6200e+03, 1.6200e+03, ..., 5.0000e+00, 9.2000e+01,\n",
       "        0.0000e+00],\n",
       "       [1.1430e+03, 2.1600e+03, 2.1600e+03, ..., 0.0000e+00, 0.0000e+00,\n",
       "        0.0000e+00],\n",
       "       [2.0590e+03, 2.1600e+03, 2.1600e+03, ..., 0.0000e+00, 3.8800e+02,\n",
       "        0.0000e+00],\n",
       "       ...,\n",
       "       [3.1134e+04, 2.1600e+03, 2.1600e+03, ..., 0.0000e+00, 0.0000e+00,\n",
       "        0.0000e+00],\n",
       "       [3.2832e+04, 1.6200e+03, 1.6200e+03, ..., 0.0000e+00, 9.0000e+01,\n",
       "        0.0000e+00],\n",
       "       [2.5100e+02, 1.6740e+03, 3.3480e+03, ..., 0.0000e+00, 0.0000e+00,\n",
       "        1.0000e+00]])"
      ]
     },
     "execution_count": 75,
     "metadata": {},
     "output_type": "execute_result"
    }
   ],
   "source": [
    "raw_csv_data = np.loadtxt('Audiobooks_data.csv', delimiter = ',')\n",
    "raw_csv_data"
   ]
  },
  {
   "cell_type": "code",
   "execution_count": 76,
   "id": "e4b29443-d91d-4544-b1ac-6e59f6ad45e0",
   "metadata": {},
   "outputs": [],
   "source": [
    "unscaled_inputs_all = raw_csv_data[:,1:-1]\n",
    "targets_all = raw_csv_data[:,-1]"
   ]
  },
  {
   "cell_type": "markdown",
   "id": "d8e2e47e-80a2-4e66-9f63-87c856d92b5d",
   "metadata": {},
   "source": [
    "### Balance the dataset"
   ]
  },
  {
   "cell_type": "code",
   "execution_count": 77,
   "id": "4668d506-4f9a-4cd3-a072-51c0179b3d36",
   "metadata": {},
   "outputs": [],
   "source": [
    "num_one_targets = int(np.sum(targets_all))\n",
    "zero_targets_counter = 0\n",
    "indices_to_remove = []\n",
    "\n",
    "for i in range(targets_all.shape[0]):\n",
    "    if targets_all[i] ==0:\n",
    "        zero_targets_counter += 1\n",
    "        if zero_targets_counter > num_one_targets:\n",
    "            indices_to_remove.append(i)\n",
    "            \n",
    "unscaled_inputs_equal_priors = np.delete(unscaled_inputs_all, indices_to_remove, axis = 0)\n",
    "targets_equal_priors = np.delete (targets_all, indices_to_remove, axis=0)"
   ]
  },
  {
   "cell_type": "markdown",
   "id": "fc55bca8-7e7a-44cd-8569-e4f870670207",
   "metadata": {},
   "source": [
    "### Standardize the inputs"
   ]
  },
  {
   "cell_type": "code",
   "execution_count": 78,
   "id": "d345f780-7363-46b8-bbf3-c47a3aa805f7",
   "metadata": {},
   "outputs": [],
   "source": [
    "scaled_inputs = preprocessing.scale(unscaled_inputs_equal_priors)"
   ]
  },
  {
   "cell_type": "code",
   "execution_count": 79,
   "id": "809b5ffa-308d-404f-be22-4ff69f4ff12f",
   "metadata": {},
   "outputs": [
    {
     "data": {
      "text/plain": [
       "array([[ 0.21053387, -0.18888517,  1.97823887, ...,  4.80955413,\n",
       "        11.83828419,  0.09415043],\n",
       "       [ 1.27894497,  0.41646744, -0.39082475, ..., -0.41569922,\n",
       "        -0.20183481, -0.80255852],\n",
       "       [ 1.27894497,  0.41646744, -0.39082475, ..., -0.41569922,\n",
       "        -0.20183481,  2.979214  ],\n",
       "       ...,\n",
       "       [ 1.27894497,  0.41646744, -0.39082475, ..., -0.41569922,\n",
       "        -0.20183481, -0.7440775 ],\n",
       "       [ 0.31737498,  1.7482432 ,  0.04679395, ..., -0.41569922,\n",
       "        -0.20183481, -0.80255852],\n",
       "       [ 0.31737498,  1.7482432 , -0.39082475, ..., -0.41569922,\n",
       "        -0.20183481, -0.80255852]])"
      ]
     },
     "execution_count": 79,
     "metadata": {},
     "output_type": "execute_result"
    }
   ],
   "source": [
    "scaled_inputs"
   ]
  },
  {
   "cell_type": "markdown",
   "id": "aa47cc70-88af-4fd2-b10e-981392432cf3",
   "metadata": {},
   "source": [
    "### Shuffle the data"
   ]
  },
  {
   "cell_type": "code",
   "execution_count": 80,
   "id": "5fcc0385-586b-47db-97d8-d52947c7bbd6",
   "metadata": {},
   "outputs": [],
   "source": [
    "shuffled_indices = np.arange(scaled_inputs.shape[0])\n",
    "np.random.shuffle(shuffled_indices)\n",
    "\n",
    "shuffled_inputs = scaled_inputs[shuffled_indices]\n",
    "shuffled_targets = targets_equal_priors[shuffled_indices]"
   ]
  },
  {
   "cell_type": "markdown",
   "id": "28a158b6-2492-48d6-8f11-26229f996dba",
   "metadata": {},
   "source": [
    "### Split the dataset into train, validation, and test"
   ]
  },
  {
   "cell_type": "code",
   "execution_count": 81,
   "id": "91a67734-0457-4823-8fe9-753b83ceffad",
   "metadata": {},
   "outputs": [
    {
     "data": {
      "text/plain": [
       "4474"
      ]
     },
     "execution_count": 81,
     "metadata": {},
     "output_type": "execute_result"
    }
   ],
   "source": [
    "samples_count = shuffled_inputs.shape[0]\n",
    "samples_count"
   ]
  },
  {
   "cell_type": "code",
   "execution_count": 82,
   "id": "0d0de527-a4da-4c46-9f5c-49be4d7313be",
   "metadata": {},
   "outputs": [
    {
     "name": "stdout",
     "output_type": "stream",
     "text": [
      "3579 447 448\n"
     ]
    }
   ],
   "source": [
    "train_samples_count = int(0.8*samples_count)\n",
    "validation_samples_count = int(0.1*samples_count)\n",
    "test_samples_count = samples_count - train_samples_count - validation_samples_count\n",
    "\n",
    "print(train_samples_count, validation_samples_count, test_samples_count)"
   ]
  },
  {
   "cell_type": "code",
   "execution_count": 83,
   "id": "e762ba08-8bad-433f-beed-535ff1daf6e9",
   "metadata": {},
   "outputs": [],
   "source": [
    "train_inputs = shuffled_inputs[:train_samples_count]\n",
    "train_targets = shuffled_targets[:train_samples_count]\n",
    "\n",
    "validation_inputs = shuffled_inputs[train_samples_count:train_samples_count+validation_samples_count]\n",
    "validation_targets = shuffled_targets[train_samples_count:train_samples_count+validation_samples_count]\n",
    "\n",
    "test_inputs = shuffled_inputs[-test_samples_count:]\n",
    "test_targets = shuffled_targets[-test_samples_count:]"
   ]
  },
  {
   "cell_type": "code",
   "execution_count": 84,
   "id": "17d00d66-e85a-4e7e-88f3-086664afe8c1",
   "metadata": {},
   "outputs": [
    {
     "name": "stdout",
     "output_type": "stream",
     "text": [
      "Balance check of train data      :  0.49874266554903607\n",
      "Balance check of validation data :  0.5100671140939598\n",
      "Balance check of test data       :  0.5\n"
     ]
    }
   ],
   "source": [
    "print(\"Balance check of train data      : \", np.sum(train_targets) / train_samples_count)\n",
    "print(\"Balance check of validation data : \", np.sum(validation_targets) / validation_samples_count)\n",
    "print(\"Balance check of test data       : \", np.sum(test_targets) / test_samples_count)"
   ]
  },
  {
   "cell_type": "markdown",
   "id": "8a18f795-7b02-4acd-8c30-6addd948f2cf",
   "metadata": {},
   "source": [
    "Acceptable, all around 50%"
   ]
  },
  {
   "cell_type": "markdown",
   "id": "eaa4c92e-eb73-4a4e-8dc7-612e16f33438",
   "metadata": {},
   "source": [
    "### Save the three datasets in *.npz"
   ]
  },
  {
   "cell_type": "code",
   "execution_count": 85,
   "id": "595767fd-d27c-449f-8ad8-687d4367ea2b",
   "metadata": {},
   "outputs": [],
   "source": [
    "np.savez('Audiobooks_data_train', inputs=train_inputs, targets=train_targets)\n",
    "np.savez('Audiobooks_data_validation', inputs=validation_inputs, targets=validation_targets)\n",
    "np.savez('Audiobooks_data_test', inputs=test_inputs, targets=test_targets)"
   ]
  }
 ],
 "metadata": {
  "kernelspec": {
   "display_name": "Python (new-py3-TF2.0)",
   "language": "python",
   "name": "new-py3-tf2.0"
  },
  "language_info": {
   "codemirror_mode": {
    "name": "ipython",
    "version": 3
   },
   "file_extension": ".py",
   "mimetype": "text/x-python",
   "name": "python",
   "nbconvert_exporter": "python",
   "pygments_lexer": "ipython3",
   "version": "3.8.19"
  }
 },
 "nbformat": 4,
 "nbformat_minor": 5
}

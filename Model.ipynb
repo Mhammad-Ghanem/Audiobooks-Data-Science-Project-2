{
 "cells": [
  {
   "cell_type": "markdown",
   "id": "cfbcfe24-5631-45a6-8b5e-a7758ee2b38e",
   "metadata": {},
   "source": [
    "# Create the machine learning algorithm\r\n"
   ]
  },
  {
   "cell_type": "markdown",
   "id": "63195f05-842b-449a-812b-b9376441359a",
   "metadata": {},
   "source": [
    "### Import the relevant libraries"
   ]
  },
  {
   "cell_type": "code",
   "execution_count": 1,
   "id": "1e72abb1-d3f3-4b6b-b604-f11c5f3d4fe0",
   "metadata": {},
   "outputs": [],
   "source": [
    "import numpy as np\n",
    "import tensorflow as tf"
   ]
  },
  {
   "cell_type": "markdown",
   "id": "f23888f9-eba7-48cd-b435-ddc5797204dd",
   "metadata": {},
   "source": [
    "# Load the Data\n"
   ]
  },
  {
   "cell_type": "code",
   "execution_count": 2,
   "id": "db6b988b-97dd-4dae-8057-973c1cdffa38",
   "metadata": {},
   "outputs": [],
   "source": [
    "npz = np.load('Audiobooks_data_train.npz')\n",
    "\n",
    "train_inputs = npz['inputs'].astype(float)\n",
    "train_targets = npz['targets'].astype(int)\n",
    "\n",
    "\n",
    "npz = np.load('Audiobooks_data_validation.npz')\n",
    "validation_inputs, validation_targets = npz['inputs'].astype(float), npz['targets'].astype(int)\n",
    "\n",
    "npz = np.load('Audiobooks_data_test.npz')\n",
    "test_inputs, test_targets = npz['inputs'].astype(float), npz['targets'].astype(int)"
   ]
  },
  {
   "cell_type": "markdown",
   "id": "ecdd02a0-5663-4698-b3fa-dd546cdf1420",
   "metadata": {},
   "source": [
    "## Model"
   ]
  },
  {
   "cell_type": "code",
   "execution_count": 11,
   "id": "57e846b7-1993-4cd0-b45c-ef9350570b7f",
   "metadata": {},
   "outputs": [
    {
     "name": "stdout",
     "output_type": "stream",
     "text": [
      "Epoch 1/100\n",
      "36/36 - 1s - loss: 0.6152 - accuracy: 0.6583 - val_loss: 0.5311 - val_accuracy: 0.7740 - 1s/epoch - 38ms/step\n",
      "Epoch 2/100\n",
      "36/36 - 0s - loss: 0.4979 - accuracy: 0.7505 - val_loss: 0.4388 - val_accuracy: 0.8009 - 139ms/epoch - 4ms/step\n",
      "Epoch 3/100\n",
      "36/36 - 0s - loss: 0.4302 - accuracy: 0.7818 - val_loss: 0.3922 - val_accuracy: 0.8098 - 141ms/epoch - 4ms/step\n",
      "Epoch 4/100\n",
      "36/36 - 0s - loss: 0.3944 - accuracy: 0.7871 - val_loss: 0.3737 - val_accuracy: 0.8143 - 142ms/epoch - 4ms/step\n",
      "Epoch 5/100\n",
      "36/36 - 0s - loss: 0.3750 - accuracy: 0.7969 - val_loss: 0.3596 - val_accuracy: 0.8255 - 156ms/epoch - 4ms/step\n",
      "Epoch 6/100\n",
      "36/36 - 0s - loss: 0.3640 - accuracy: 0.7985 - val_loss: 0.3553 - val_accuracy: 0.8076 - 146ms/epoch - 4ms/step\n",
      "Epoch 7/100\n",
      "36/36 - 0s - loss: 0.3581 - accuracy: 0.8033 - val_loss: 0.3457 - val_accuracy: 0.8300 - 146ms/epoch - 4ms/step\n",
      "Epoch 8/100\n",
      "36/36 - 0s - loss: 0.3512 - accuracy: 0.8131 - val_loss: 0.3243 - val_accuracy: 0.8747 - 141ms/epoch - 4ms/step\n",
      "Epoch 9/100\n",
      "36/36 - 0s - loss: 0.3455 - accuracy: 0.8094 - val_loss: 0.3354 - val_accuracy: 0.8479 - 137ms/epoch - 4ms/step\n",
      "Epoch 10/100\n",
      "36/36 - 0s - loss: 0.3423 - accuracy: 0.8092 - val_loss: 0.3394 - val_accuracy: 0.8412 - 143ms/epoch - 4ms/step\n"
     ]
    },
    {
     "data": {
      "text/plain": [
       "<keras.callbacks.History at 0x19564feef10>"
      ]
     },
     "execution_count": 11,
     "metadata": {},
     "output_type": "execute_result"
    }
   ],
   "source": [
    "input_size = 10\n",
    "output_size = 2\n",
    "hidden_layer_size = 50\n",
    "\n",
    "#design of the model\n",
    "model = tf.keras.Sequential([\n",
    "    \n",
    "    #hidden layers\n",
    "    tf.keras.layers.Dense(hidden_layer_size, activation='relu'),\n",
    "    tf.keras.layers.Dense(hidden_layer_size, activation='relu'),\n",
    "\n",
    "    #output\n",
    "    tf.keras.layers.Dense(output_size, activation='softmax')\n",
    "    \n",
    " ])\n",
    "\n",
    "#Optimizer and loss function\n",
    "model.compile(optimizer='adam', loss='sparse_categorical_crossentropy', metrics=['accuracy'])\n",
    "\n",
    "batch_size = 100\n",
    "max_epochs = 100\n",
    "early_stopping = tf.keras.callbacks.EarlyStopping(patience = 2)\n",
    "\n",
    "\n",
    "model.fit(train_inputs, \n",
    "          train_targets, \n",
    "          batch_size=batch_size, \n",
    "          epochs=max_epochs,\n",
    "          callbacks=[early_stopping],\n",
    "          validation_data=(validation_inputs, validation_targets), \n",
    "          verbose = 2 \n",
    "          ) "
   ]
  },
  {
   "cell_type": "markdown",
   "id": "1b919849-2737-4025-9320-e92e255e8711",
   "metadata": {},
   "source": [
    "we got 85% accuracy on the validation dataset"
   ]
  },
  {
   "cell_type": "markdown",
   "id": "87c870bf-ca80-40d8-8425-f5e39f953afa",
   "metadata": {},
   "source": [
    "### Testing the model"
   ]
  },
  {
   "cell_type": "code",
   "execution_count": 12,
   "id": "4e3c5a46-3da2-4b95-9996-4c180debdf54",
   "metadata": {},
   "outputs": [
    {
     "name": "stdout",
     "output_type": "stream",
     "text": [
      "14/14 [==============================] - 0s 3ms/step - loss: 0.3485 - accuracy: 0.8214\n"
     ]
    }
   ],
   "source": [
    "test_loss, test_accuracy = model.evaluate(test_inputs, test_targets)"
   ]
  },
  {
   "cell_type": "markdown",
   "id": "f89c71a2-c14e-4021-9173-9e9e552db493",
   "metadata": {},
   "source": [
    "The final accuracy of our model is 83%"
   ]
  }
 ],
 "metadata": {
  "kernelspec": {
   "display_name": "Python (new-py3-TF2.0)",
   "language": "python",
   "name": "new-py3-tf2.0"
  },
  "language_info": {
   "codemirror_mode": {
    "name": "ipython",
    "version": 3
   },
   "file_extension": ".py",
   "mimetype": "text/x-python",
   "name": "python",
   "nbconvert_exporter": "python",
   "pygments_lexer": "ipython3",
   "version": "3.8.18"
  }
 },
 "nbformat": 4,
 "nbformat_minor": 5
}
